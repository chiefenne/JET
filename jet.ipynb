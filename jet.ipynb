{
 "cells": [
  {
   "cell_type": "code",
   "execution_count": 6,
   "metadata": {
    "collapsed": true
   },
   "outputs": [],
   "source": [
    "from IPython.display import Image"
   ]
  },
  {
   "cell_type": "markdown",
   "metadata": {},
   "source": [
    "# 2D Turbulent Hot Free Jet"
   ]
  },
  {
   "cell_type": "markdown",
   "metadata": {},
   "source": [
    "## Literature"
   ]
  },
  {
   "cell_type": "markdown",
   "metadata": {},
   "source": [
    "**\"Physical and computational aspects of convective heat transfer\"**\n",
    "\n",
    "T. CEBECI, P. BRADSHAW, Springer 1984"
   ]
  },
  {
   "cell_type": "markdown",
   "metadata": {},
   "source": [
    "## Equations for the 2D hot free jet"
   ]
  },
  {
   "cell_type": "markdown",
   "metadata": {},
   "source": [
    "Applying assumptions from Prandtl's boundary layer theorem, the Navier-Stokes equations can simplified for the 2D turbulent free jet. The follwoing set of equations depict the continuity, momentum and energy equations, respectively."
   ]
  },
  {
   "cell_type": "markdown",
   "metadata": {},
   "source": [
    "\\begin{align}\n",
    "\\frac{\\partial u}{\\partial x} + \\frac{\\partial v}{\\partial y} & = 0 \\\\\n",
    "u\\frac{\\partial u}{\\partial x} + v\\frac{\\partial u}{\\partial y} & = \\frac{1}{\\rho}\\frac{\\partial \\tau}{\\partial y} \\\\\n",
    "u\\frac{\\partial u}{\\partial x} + v\\frac{\\partial u}{\\partial y} & = - \\frac{1}{\\rho c_P}\\frac{\\partial \\dot q}{\\partial y}\n",
    "\\end{align}"
   ]
  },
  {
   "cell_type": "markdown",
   "metadata": {
    "collapsed": true
   },
   "source": [
    "With"
   ]
  },
  {
   "cell_type": "markdown",
   "metadata": {
    "collapsed": true
   },
   "source": [
    "\\begin{equation}\n",
    "\\tau = \\mu \\frac{\\partial u}{\\partial y}, \\qquad \\tau = \\mu \\frac{\\partial u}{\\partial y} - \\rho \\overline{u'v'}\n",
    "\\end{equation}"
   ]
  },
  {
   "cell_type": "markdown",
   "metadata": {},
   "source": [
    "for the laminar and turbulent case, and similarly we have"
   ]
  },
  {
   "cell_type": "markdown",
   "metadata": {},
   "source": [
    "\\begin{equation}\n",
    "\\dot q = -\\lambda \\frac{\\partial T}{\\partial y}, \\qquad \\dot q = -\\lambda \\frac{\\partial T}{\\partial y} + \\rho c_P \\overline{T'v'}\n",
    "\\end{equation}"
   ]
  },
  {
   "cell_type": "markdown",
   "metadata": {},
   "source": [
    "for the laminar and turbulent cases of the energy equation. A proper turbulence model has to be selected for the *Reynolds' stresses* and *turbulent diffusion*. In this case the **Cebeci-Smith** model, derived from the Schlichting formula which is based on the mixing length is applied."
   ]
  },
  {
   "cell_type": "markdown",
   "metadata": {},
   "source": [
    "Analogy considerations to the molecular viscosity lead to"
   ]
  },
  {
   "cell_type": "markdown",
   "metadata": {},
   "source": [
    "\\begin{equation}\n",
    "\\mu_t = \\frac{- \\rho \\overline{u'v'}} {\\partial u/\\partial y} \\qquad \\text{so that} \\qquad \\mu_{eff} = \\mu + \\mu_t\n",
    "\\end{equation}"
   ]
  },
  {
   "cell_type": "markdown",
   "metadata": {},
   "source": [
    "and for the turbulent diffussivity"
   ]
  },
  {
   "cell_type": "markdown",
   "metadata": {},
   "source": [
    "\\begin{equation}\n",
    "\\kappa_t = \\frac{-\\rho c_P \\overline{T'v'}} {\\partial T/\\partial y} \\qquad \\text{so that} \\qquad \\kappa_{eff} = \\kappa + \\kappa_t  \\qquad \\text{with}  \\qquad \\kappa = \\frac{\\lambda}{\\rho c_P} \\qquad \\text{being the } \\textit {thermal diffusivity}.\n",
    "\\end{equation}"
   ]
  },
  {
   "cell_type": "markdown",
   "metadata": {},
   "source": [
    "With"
   ]
  },
  {
   "cell_type": "markdown",
   "metadata": {},
   "source": [
    "\\begin{equation}\n",
    "\\epsilon_m = \\frac{\\mu_t}{\\rho} \\quad \\text{and} \\quad \\epsilon_h = \\frac{\\kappa_t}{\\rho c_P},\\quad \\text {we define the } \\textit{eddy kinematic diffusivity} \\text{ and } \\textit{eddy diffusivity of heat} \\text{, respectively}.\n",
    "\\end{equation}"
   ]
  },
  {
   "cell_type": "markdown",
   "metadata": {},
   "source": [
    "By analogy with the molecular Prandtl number:"
   ]
  },
  {
   "cell_type": "markdown",
   "metadata": {},
   "source": [
    "\\begin{equation}\n",
    "Pr \\equiv \\frac{\\nu}{\\lambda} \\equiv \\frac{\\mu c_P}{\\lambda}\n",
    "\\end{equation}"
   ]
  },
  {
   "cell_type": "markdown",
   "metadata": {},
   "source": [
    " a *turbulent Prandtl* number can be defined"
   ]
  },
  {
   "cell_type": "markdown",
   "metadata": {},
   "source": [
    "\\begin{equation}\n",
    "Pr_t \\equiv \\frac{\\epsilon_m}{\\epsilon_h}  \\equiv \\frac{\\epsilon_m^+}{\\epsilon_h^+} \\equiv \\frac{\\rho \\overline{u'v'} / (\\partial u/\\partial y)}{\\overline{T'v'} / (\\partial T/\\partial y)}\n",
    "\\end{equation}"
   ]
  },
  {
   "cell_type": "markdown",
   "metadata": {},
   "source": [
    "with"
   ]
  },
  {
   "cell_type": "markdown",
   "metadata": {},
   "source": [
    "\\begin{equation}\n",
    "\\epsilon_m^+ \\equiv \\frac{\\epsilon_m}{\\nu} \\quad \\text{and} \\quad \\epsilon_h^+ \\equiv \\frac{\\epsilon_h}{\\nu}.\n",
    "\\end{equation}"
   ]
  },
  {
   "cell_type": "markdown",
   "metadata": {
    "collapsed": true
   },
   "source": [
    " Applying the **Falkner-Skan** transformation:"
   ]
  },
  {
   "cell_type": "markdown",
   "metadata": {},
   "source": [
    "\\begin{equation}\n",
    "\\eta \\equiv \\frac{y}{\\delta} = \\sqrt{\\frac{u_0}{\\nu L}}\\frac{y}{3\\xi^{2/3}}, \\qquad \\xi=\\frac{x}{L}, \\qquad \\psi = \\sqrt{u_0 \\nu L}\\xi^{1/3}f(\\xi, \\eta), \\quad u = \\frac{\\partial \\psi}{\\partial y} = \\frac{\\partial \\psi}{\\partial \\eta}\\frac{\\partial \\eta}{\\partial y}, \\quad v = -\\frac{\\partial \\psi}{\\partial x} = -\\frac{\\partial \\psi}{\\partial \\eta}\\frac{\\partial \\eta}{\\partial x}\n",
    "\\end{equation}"
   ]
  },
  {
   "cell_type": "markdown",
   "metadata": {},
   "source": [
    "\\begin{equation}\n",
    "u = \\frac{1}{3} \\frac{u_0 f'}{\\xi^{1/3}} \\quad \\text{with} \\quad f' \\equiv \\frac{\\partial f}{\\partial \\eta}\n",
    "\\end{equation}"
   ]
  },
  {
   "cell_type": "markdown",
   "metadata": {},
   "source": [
    "the following equations for the 2D laminar heated free jet can be derived:"
   ]
  },
  {
   "cell_type": "markdown",
   "metadata": {},
   "source": [
    "\\begin{align}\n",
    "f'''+(f')^2 +ff'' &= 3 \\xi \\left( f' \\frac{\\partial f'}{\\partial \\xi} - f'' \\frac{\\partial f}{\\partial \\xi}\\right) \\\\\n",
    "\\frac{1}{Pr}g'' + (fg)' &= 3 \\xi \\left( f' \\frac{\\partial g}{\\partial \\xi} - g' \\frac{\\partial f}{\\partial \\xi}\\right)\n",
    "\\end{align}"
   ]
  },
  {
   "cell_type": "markdown",
   "metadata": {},
   "source": [
    "## Keller's BOX method"
   ]
  },
  {
   "cell_type": "markdown",
   "metadata": {},
   "source": [
    "The BOX-method of H.B. Keller is a second order accurate discretization scheme for parabolic partial differential equations. Since the boundary layer equations are of parabolic type the scheme is well suited.\n",
    "\n",
    "The BOX-method consists of four steps:\n",
    "1. Reduction of the order of the PDE by substitution to get a first order equation system\n",
    "2. Use central differences for the discretization of the first order equations\n",
    "3. Linearize the resulting algebraic equations (in case they are non-linear)\n",
    "4. Solve the linear system\n",
    "\n",
    "The order recuction is done by substitution which typically leads to a set of ODEs and one PDE. The ODEs are discretized at the new, unknown position (e.g. space or time), whereas the first oder PDE is discretized halfway between known and unknown quantities."
   ]
  },
  {
   "cell_type": "markdown",
   "metadata": {},
   "source": [
    "### Step 1 - Order Reduction\n",
    "Applying the BOX-method to the equations for the free jet and also introducing turbulence yields the following set of equations:"
   ]
  },
  {
   "cell_type": "markdown",
   "metadata": {
    "collapsed": true
   },
   "source": [
    "\\begin{align}\n",
    "f' &= u(\\xi, \\eta) \\\\\n",
    "u' &= v(\\xi, \\eta) \\\\\n",
    "g' &= p(\\xi, \\eta) \\\\\n",
    "(bv)'+u^2 +fv &= 3 \\xi \\left( u \\frac{\\partial u}{\\partial \\xi} - v \\frac{\\partial f}{\\partial \\xi}\\right) \\\\\n",
    "(ep)' + fp &= 3 \\xi \\left( u \\frac{\\partial g}{\\partial \\xi} - p \\frac{\\partial f}{\\partial \\xi}\\right)\n",
    "\\end{align}"
   ]
  },
  {
   "cell_type": "markdown",
   "metadata": {},
   "source": [
    "which is a set of 3 ODEs and 2 PDEs.\n",
    "\n",
    "With:"
   ]
  },
  {
   "cell_type": "markdown",
   "metadata": {},
   "source": [
    "\\begin{equation}\n",
    "b = 1 + \\epsilon_m^+  \\quad \\text{and} \\quad e = \\frac{1}{Pr} + \\frac{\\epsilon_m^+}{Pr_t}\n",
    "\\end{equation}"
   ]
  },
  {
   "cell_type": "markdown",
   "metadata": {},
   "source": [
    "### Step 2 - Discretization\n",
    "\n",
    "The figure below depicts the Keller box and associated discretization points for the ODEs and PDEs. In this sketch the solution propagation of the parabolic PDE is from left to right."
   ]
  },
  {
   "cell_type": "code",
   "execution_count": 12,
   "metadata": {
    "collapsed": false
   },
   "outputs": [
    {
     "data": {
      "image/png": "[encoded data removed]",
      "text/plain": [
       "<IPython.core.display.Image object>"
      ]
     },
     "execution_count": 12,
     "metadata": {
      "image/png": {
       "width": 600
      }
     },
     "output_type": "execute_result"
    }
   ],
   "source": [
    "Image(filename='D:\\Dropbox\\JET\\Keller_BOX.png', width=600)"
   ]
  },
  {
   "cell_type": "markdown",
   "metadata": {},
   "source": [
    "#### ODE Discretization"
   ]
  },
  {
   "cell_type": "markdown",
   "metadata": {},
   "source": [
    "\\begin{equation}\n",
    "f' = \\frac{df}{d\\eta} = u\n",
    "\\end{equation}"
   ]
  },
  {
   "cell_type": "markdown",
   "metadata": {},
   "source": [
    "Using central differences to dicretize this ODE at the unknown location (see *ODE discretization point* in above figure) results in:"
   ]
  },
  {
   "cell_type": "markdown",
   "metadata": {},
   "source": [
    "\\begin{equation}\n",
    "\\frac{1}{h_j}(f_{j}^{n}-f_{j-1}^{n}) = \\frac{1}{2}(u_{j}^{n}+u_{j-1}^{n})\n",
    "\\end{equation}"
   ]
  },
  {
   "cell_type": "markdown",
   "metadata": {},
   "source": [
    "and likewise fro the remaining two ODEs:"
   ]
  },
  {
   "cell_type": "markdown",
   "metadata": {},
   "source": [
    "\\begin{equation}\n",
    "\\frac{1}{h_j}(u_{j}^{n}-u_{j-1}^{n}) = \\frac{1}{2}(v_{j}^{n}+v_{j-1}^{n})\n",
    "\\end{equation}"
   ]
  },
  {
   "cell_type": "markdown",
   "metadata": {},
   "source": [
    "\\begin{equation}\n",
    "\\frac{1}{h_j}(g_{j}^{n}-g_{j-1}^{n}) = \\frac{1}{2}(p_{j}^{n}+p_{j-1}^{n})\n",
    "\\end{equation}"
   ]
  },
  {
   "cell_type": "markdown",
   "metadata": {},
   "source": [
    "####PDE Discretization\n",
    "\n",
    "The PDE is again discretized using central differences, but now at a point halfway between known and unknown quantities in the center of the \"Keller BOX\" (see *PDE disecretization point* in above figure).\n",
    "\n",
    "The discretization is done one by one for each individual term. For the first term of the momentum equation it is done in a quite verbose way in order to show the process in every detail. In the last line the variables are already separated in terms of known (superscript $n-1$) and unknown (superscript $n$) positions. This is needed later for grouping the coefficients of the unknowns as well as the known terms for the matrix-vector solution procedure ($\\matrix{A}\\vec{x}=\\vec{b}$) for the linear equation system."
   ]
  },
  {
   "cell_type": "markdown",
   "metadata": {},
   "source": [
    "\\begin{align}\n",
    "(bv)' = \\frac{\\partial (bv)}{\\partial \\eta} &\\approx \\frac{1}{h_j}\\left [\\left(bv\\right)_{j}^{n-1/2}-\\left(bv\\right)_{j-1}^{n-1/2}\\right ] =\\\\\n",
    "&= \\frac{1}{h_j}\\left [ \\frac{1}{2}\\left((bv)_{j}^{n} + (bv)_{j}^{n-1}\\right) - \\frac{1}{2}\\left((bv)_{j-1}^{n} + (bv)_{j-1}^{n-1}\\right)\\right] = \\\\\n",
    "&= \\frac{1}{h_j}\\left [ \\frac{1}{2}(b_{j}^{n}v_{j}^{n} + b_{j}^{n-1}v_{j}^{n-1}) - \\frac{1}{2}(b_{j-1}^{n}v_{j-1}^{n} + b_{j-1}^{n-1}v_{j-1}^{n-1})\\right] = \\\\\n",
    "&= \\frac{1}{2 h_j} \\left(b_{j}^{n}v_{j}^{n} - b_{j-1}^{n}v_{j-1}^{n}\\right) + \\frac{1}{2 h_j}\\left(b_{j}^{n-1}v_{j}^{n-1} - b_{j-1}^{n-1}v_{j-1}^{n-1}\\right) \\\\\n",
    "\\quad \\\\\n",
    "u^2 &\\approx \\left (u^2 \\right )_{j-1/2}^{n-1/2} = \\\\\n",
    "& = \\frac{1}{2} \\left[\\left ( u^2 \\right)_{j-1/2}^{n} + \\left(u^2\\right)_{j-1/2}^{n-1}\\right] \\\\\n",
    "& = \\frac{1}{4}\\left[\\left ( u^2 \\right)_{j}^{n} + \\left ( u^2 \\right)_{j-1}^{n}\\right] + \\frac{1}{4}\\left[\\left ( u^2 \\right)_{j}^{n-1} + \\left ( u^2 \\right)_{j-1}^{n-1}\\right]\\\\\n",
    "\\quad \\\\\n",
    "fv &\\approx \\left (fv \\right )_{j-1/2}^{n-1/2} = \\\\\n",
    "& = \\frac{1}{4}\\left(f_{j}^{n}v_{j}^{n} + f_{j-1}^{n}v_{j-1}^{n}\\right) + \\frac{1}{4}\\left ( f_{j}^{n-1}v_{j}^{n-1} + f_{j-1}^{n-1}v_{j-1}^{n-1}\\right) \\\\\n",
    "\\quad \\\\\n",
    "3\\xi &= 3\\xi^{n-1/2} = \\frac{3}{2}\\left(\\xi^n+\\xi^{n-1}\\right)\n",
    "\\quad \\\\\n",
    "u &\\approx u_{j-1/2}^{n-1/2} = \\\\\n",
    "& = \\frac{1}{2} \\left(u_{j-1/2}^{n} + u_{j-1/2}^{n-1}\\right) \\\\\n",
    "& = \\frac{1}{4}\\left(u_{j}^{n} + u_{j-1}^{n}\\right) + \\frac{1}{4}\\left(u_{j}^{n-1} + u_{j-1}^{n-1}\\right)\\\\\n",
    "\\quad \\\\\n",
    "\\frac{\\partial u}{\\partial \\xi} &\\approx \\frac{1}{k_n}\\left (u_{j-1/2}^{n}-u_{j-1/2}^{n-1}\\right ) =\\\\\n",
    "&= \\frac{1}{2 k_n}\\left (u_{j}^{n}+u_{j-1}^{n}\\right) - \\frac{1}{2 k_n}\\left (u_{j}^{n-1}+u_{j-1}^{n-1}\\right) = \\\\\n",
    "\\quad \\\\\n",
    "v &\\approx v_{j-1/2}^{n-1/2} = \\\\\n",
    "& = \\frac{1}{2} \\left(v_{j-1/2}^{n} + v_{j-1/2}^{n-1}\\right) \\\\\n",
    "& = \\frac{1}{4}\\left(v_{j}^{n} + v_{j-1}^{n}\\right) + \\frac{1}{4}\\left(v_{j}^{n-1} + v_{j-1}^{n-1}\\right)\\\\\n",
    "\\quad \\\\\n",
    "\\frac{\\partial f}{\\partial \\xi} &\\approx \\frac{1}{k_n}\\left (f_{j-1/2}^{n}-f_{j-1/2}^{n-1}\\right ) =\\\\\n",
    "&= \\frac{1}{2 k_n}\\left (f_{j}^{n}+f_{j-1}^{n}\\right) - \\frac{1}{2 k_n}\\left (f_{j}^{n-1}+f_{j-1}^{n-1}\\right)\\\\\n",
    "\\quad \\\\\n",
    "\\end{align}"
   ]
  },
  {
   "cell_type": "markdown",
   "metadata": {
    "collapsed": true
   },
   "source": [
    "After multiplying by 2, the complete discretized reduced order momentum equation now is:"
   ]
  },
  {
   "cell_type": "markdown",
   "metadata": {},
   "source": [
    "\\begin{equation}\n",
    "\\frac{1}{h_j} \\left(b_{j}^{n}v_{j}^{n} - b_{j-1}^{n}v_{j-1}^{n}\\right) + \\frac{1}{h_j}\\left(b_{j}^{n-1}v_{j}^{n-1} - b_{j-1}^{n-1}v_{j-1}^{n-1}\\right) + \\frac{1}{2}\\left[\\left ( u^2 \\right)_{j}^{n} + \\left ( u^2 \\right)_{j-1}^{n}\\right] + \\frac{1}{2}\\left[\\left ( u^2 \\right)_{j}^{n-1} + \\left ( u^2 \\right)_{j-1}^{n-1}\\right] + \\frac{1}{2}\\left(f_{j}^{n}v_{j}^{n} + f_{j-1}^{n}v_{j-1}^{n}\\right) + \\frac{1}{2}\\left ( f_{j}^{n-1}v_{j}^{n-1} + f_{j-1}^{n-1}v_{j-1}^{n-1}\\right) = 3 \\left(\\xi^n+\\xi^{n-1}\\right) \\left \\{ \\left[ \\frac{1}{2}\\left(u_{j}^{n} + u_{j-1}^{n}\\right) + \\frac{1}{2}\\left(u_{j}^{n-1} + u_{j-1}^{n-1}\\right) \\right]\\left[ \\frac{1}{k_n}\\left (u_{j}^{n}+u_{j-1}^{n}\\right) - \\frac{1}{k_n}\\left (u_{j}^{n-1}+u_{j-1}^{n-1}\\right)\\right] + \\left[ \\frac{1}{2}\\left(v_{j}^{n} + v_{j-1}^{n}\\right) + \\frac{1}{2}\\left(v_{j}^{n-1} + v_{j-1}^{n-1}\\right)\\right]\\left[\\frac{1}{k_n}\\left (f_{j}^{n}+f_{j-1}^{n}\\right) - \\frac{1}{k_n}\\left (f_{j}^{n-1}+f_{j-1}^{n-1}\\right)\\right]   \\right\\}\n",
    "\\end{equation}"
   ]
  },
  {
   "cell_type": "code",
   "execution_count": null,
   "metadata": {
    "collapsed": true
   },
   "outputs": [],
   "source": []
  }
 ],
 "metadata": {
  "kernelspec": {
   "display_name": "Python 2",
   "language": "python",
   "name": "python2"
  },
  "language_info": {
   "codemirror_mode": {
    "name": "ipython",
    "version": 2
   },
   "file_extension": ".py",
   "mimetype": "text/x-python",
   "name": "python",
   "nbconvert_exporter": "python",
   "pygments_lexer": "ipython2",
   "version": "2.7.9"
  }
 },
 "nbformat": 4,
 "nbformat_minor": 0
}
